{
 "cells": [
  {
   "cell_type": "markdown",
   "id": "82cb2a24",
   "metadata": {},
   "source": [
    "Part 2.1-A"
   ]
  },
  {
   "cell_type": "code",
   "execution_count": null,
   "id": "6c5597e9",
   "metadata": {},
   "outputs": [],
   "source": [
    "\n",
    "import pandas as pd"
   ]
  },
  {
   "cell_type": "code",
   "execution_count": 7,
   "id": "d6e1b067",
   "metadata": {},
   "outputs": [
    {
     "name": "stdout",
     "output_type": "stream",
     "text": [
      "0\n",
      "0          Chocolate Cake\n",
      "1              Lemon Cake\n",
      "2             Casino Cake\n",
      "3              Opera Cake\n",
      "4         Strawberry Cake\n",
      "5            Truffle Cake\n",
      "6        Chocolate Eclair\n",
      "7           Coffee Eclair\n",
      "8          Vanilla Eclair\n",
      "9           Napoleon Cake\n",
      "10            Almond Tart\n",
      "11              Apple Pie\n",
      "12             Apple Tart\n",
      "13           Apricot Tart\n",
      "14             Berry Tart\n",
      "15        Blackberry Tart\n",
      "16         Blueberry Tart\n",
      "17         Chocolate Tart\n",
      "18            Cherry Tart\n",
      "19             Lemon Tart\n",
      "20             Pecan Tart\n",
      "21         Ganache Cookie\n",
      "22       Gongolais Cookie\n",
      "23       Raspberry Cookie\n",
      "24           Lemon Cookie\n",
      "25     Chocolate Meringue\n",
      "26       Vanilla Meringue\n",
      "27        Marzipan Cookie\n",
      "28           Tuile Cookie\n",
      "29          Walnut Cookie\n",
      "30       Almond Croissant\n",
      "31        Apple Croissant\n",
      "32      Apricot Croissant\n",
      "33       Cheese Croissant\n",
      "34    Chocolate Croissant\n",
      "35         Apricot Danish\n",
      "36           Apple Danish\n",
      "37           Almond Twist\n",
      "38       Almond Bear Claw\n",
      "39       Blueberry Danish\n",
      "40         Lemon Lemonade\n",
      "41     Raspberry Lemonade\n",
      "42           Orange Juice\n",
      "43              Green Tea\n",
      "44          Bottled Water\n",
      "45             Hot Coffee\n",
      "46       Chocolate Coffee\n",
      "47    Vanilla Frappuccino\n",
      "48            Cherry Soda\n",
      "49        Single Espresso\n",
      "Name: 1, dtype: object\n"
     ]
    }
   ],
   "source": [
    "df = pd.read_csv('D:\\Masters\\DM\\HW5\\products.csv', header=None, index_col=0, squeeze = True)\n",
    "print(df)\n"
   ]
  },
  {
   "cell_type": "code",
   "execution_count": 8,
   "id": "0aa72297",
   "metadata": {},
   "outputs": [
    {
     "name": "stdout",
     "output_type": "stream",
     "text": [
      "{0: 'Chocolate Cake', 1: 'Lemon Cake', 2: 'Casino Cake', 3: 'Opera Cake', 4: 'Strawberry Cake', 5: 'Truffle Cake', 6: 'Chocolate Eclair', 7: 'Coffee Eclair', 8: 'Vanilla Eclair', 9: 'Napoleon Cake', 10: 'Almond Tart', 11: 'Apple Pie', 12: 'Apple Tart', 13: 'Apricot Tart', 14: 'Berry Tart', 15: 'Blackberry Tart', 16: 'Blueberry Tart', 17: 'Chocolate Tart', 18: 'Cherry Tart', 19: 'Lemon Tart', 20: 'Pecan Tart', 21: 'Ganache Cookie', 22: 'Gongolais Cookie', 23: 'Raspberry Cookie', 24: 'Lemon Cookie', 25: 'Chocolate Meringue', 26: 'Vanilla Meringue', 27: 'Marzipan Cookie', 28: 'Tuile Cookie', 29: 'Walnut Cookie', 30: 'Almond Croissant', 31: 'Apple Croissant', 32: 'Apricot Croissant', 33: 'Cheese Croissant', 34: 'Chocolate Croissant', 35: 'Apricot Danish', 36: 'Apple Danish', 37: 'Almond Twist', 38: 'Almond Bear Claw', 39: 'Blueberry Danish', 40: 'Lemon Lemonade', 41: 'Raspberry Lemonade', 42: 'Orange Juice', 43: 'Green Tea', 44: 'Bottled Water', 45: 'Hot Coffee', 46: 'Chocolate Coffee', 47: 'Vanilla Frappuccino', 48: 'Cherry Soda', 49: 'Single Espresso'}\n"
     ]
    }
   ],
   "source": [
    "d = df.to_dict()\n",
    "print(d)  "
   ]
  },
  {
   "cell_type": "code",
   "execution_count": 23,
   "id": "9d1ad57c",
   "metadata": {},
   "outputs": [],
   "source": [
    "# Input\n",
    "import pandas\n",
    "\n",
    "def handle_missing(data_file):\n",
    "\n",
    "    d_f_delimiter = ','\n",
    "\n",
    "    l_c_count = 0\n",
    "\n",
    "    with open(data_file, 'r') as temp_f:\n",
    "        lines = temp_f.readlines()\n",
    "\n",
    "        for l in lines:\n",
    "            c_count = len(l.split(d_f_delimiter)) + 1\n",
    "\n",
    "            l_c_count = c_count if l_c_count < c_count else l_c_count\n",
    "\n",
    "    column_names = [i for i in range(0, l_c_count)]\n",
    "\n",
    "    df = pandas.read_csv(data_file, header=None, delimiter=d_f_delimiter, names=column_names,index_col=0)\n",
    "    \n",
    "    return df\n"
   ]
  },
  {
   "cell_type": "code",
   "execution_count": 25,
   "id": "10e14694",
   "metadata": {},
   "outputs": [],
   "source": [
    "def convert(data_file_list):\n",
    "    for f in data_file_list[:]:\n",
    "        df=handle_missing(f)\n",
    "        dff=df.values.tolist()\n",
    "\n",
    "        \n",
    "        conv=[]\n",
    "        for i in dff[:]:\n",
    "            inn=[]\n",
    "            for j in i:\n",
    "                \n",
    "#                 print(j,d.get(j))\n",
    "                if(d.get(j)!=None):\n",
    "                    inn.append(d.get(j))\n",
    "\n",
    "\n",
    "            wow=inn\n",
    "            conv.append(wow)\n",
    "        #print(conv[:10])\n",
    "        new_csv_name=f.rsplit('.csv')[0]+\"-canonical\"+\".csv\"\n",
    "        my_df = pd.DataFrame(conv)\n",
    "        my_df.to_csv(new_csv_name, index=False, header=False)\n",
    "data_file_list=[r'D:\\Masters\\DM\\HW5\\tr-1k.csv', r'D:\\Masters\\DM\\HW5\\tr-5k.csv', r'D:\\Masters\\DM\\HW5\\tr-20k.csv', r'D:\\Masters\\DM\\HW5\\tr-75k.csv']\n",
    "convert(data_file_list)"
   ]
  },
  {
   "cell_type": "code",
   "execution_count": null,
   "id": "f8d33546",
   "metadata": {},
   "outputs": [],
   "source": []
  }
 ],
 "metadata": {
  "kernelspec": {
   "display_name": "Python 3 (ipykernel)",
   "language": "python",
   "name": "python3"
  },
  "language_info": {
   "codemirror_mode": {
    "name": "ipython",
    "version": 3
   },
   "file_extension": ".py",
   "mimetype": "text/x-python",
   "name": "python",
   "nbconvert_exporter": "python",
   "pygments_lexer": "ipython3",
   "version": "3.9.7"
  }
 },
 "nbformat": 4,
 "nbformat_minor": 5
}
